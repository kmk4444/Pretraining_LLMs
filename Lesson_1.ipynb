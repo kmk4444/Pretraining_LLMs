{
  "nbformat": 4,
  "nbformat_minor": 0,
  "metadata": {
    "colab": {
      "provenance": [],
      "authorship_tag": "ABX9TyOhrThPHCGi/U6xYZSyPHCI",
      "include_colab_link": true
    },
    "kernelspec": {
      "name": "python3",
      "display_name": "Python 3"
    },
    "language_info": {
      "name": "python"
    }
  },
  "cells": [
    {
      "cell_type": "markdown",
      "metadata": {
        "id": "view-in-github",
        "colab_type": "text"
      },
      "source": [
        "<a href=\"https://colab.research.google.com/github/kmk4444/Pretraining_LLMs/blob/main/Lesson_1.ipynb\" target=\"_parent\"><img src=\"https://colab.research.google.com/assets/colab-badge.svg\" alt=\"Open In Colab\"/></a>"
      ]
    },
    {
      "cell_type": "code",
      "source": [
        "!touch requirements.txt\n",
        "!echo accelerate==0.26.1 >> requirements.txt\n",
        "!echo datasets==2.16.1 >> requirements.txt\n",
        "!echo fasttext==0.9.2 >> requirements.txt\n",
        "!echo jupyter==1.0.0 >> requirements.txt\n",
        "!echo pandas==2.2.0 >> requirements.txt\n",
        "!echo pyarrow==15.0.0 >> requirements.txt\n",
        "!echo sentencepiece==0.1.99 >> requirements.txt\n",
        "!echo torch==2.1.2 >> requirements.txt\n",
        "!echo torchaudio==2.1.2 >> requirements.txt\n",
        "!echo torchvision==0.16.2 >> requirements.txt\n",
        "!echo tqdm==4.66.1 >> requirements.txt\n",
        "!echo transformers==4.37.2 >> requirements.txt"
      ],
      "metadata": {
        "id": "EpVP6zF9kSty"
      },
      "execution_count": null,
      "outputs": []
    },
    {
      "cell_type": "code",
      "execution_count": null,
      "metadata": {
        "id": "I5Mb7YxUcrJs"
      },
      "outputs": [],
      "source": [
        "# Ignore insignificant warnings (ex: deprecations)\n",
        "import warnings\n",
        "warnings.filterwarnings('ignore')"
      ]
    },
    {
      "cell_type": "code",
      "source": [
        "# Set a seed for reproducibility\n",
        "import torch\n",
        "\n",
        "def fix_torch_seed(seed=42):\n",
        "  torch.manual_seed(seed)\n",
        "  torch.cuda.manual_seed(seed)\n",
        "  torch.cuda.manual_seed_all(seed)\n",
        "  torch.backends.cudnn.deterministic = True\n",
        "  torch.backends.cudnn.benchmark = False\n",
        "\n",
        "fix_torch_seed()"
      ],
      "metadata": {
        "id": "h7CS361meWU4"
      },
      "execution_count": null,
      "outputs": []
    }
  ]
}